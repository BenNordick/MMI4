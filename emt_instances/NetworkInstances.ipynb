{
 "cells": [
  {
   "cell_type": "code",
   "execution_count": 1,
   "metadata": {},
   "outputs": [],
   "source": [
    "import collections\n",
    "import itertools\n",
    "import networkx as nx\n",
    "import pandas as pd"
   ]
  },
  {
   "cell_type": "code",
   "execution_count": 2,
   "metadata": {},
   "outputs": [],
   "source": [
    "omnipath = nx.read_graphml('omnipath.gxml')\n",
    "trrust = nx.read_graphml('trrust.gxml')"
   ]
  },
  {
   "cell_type": "code",
   "execution_count": 3,
   "metadata": {},
   "outputs": [],
   "source": [
    "combined = nx.DiGraph()\n",
    "for src, dst in omnipath.edges:\n",
    "    edge_info = omnipath.edges[src, dst]\n",
    "    if edge_info['kind'] == 'transcriptional':\n",
    "        combined.add_edge(omnipath.nodes[src]['name'], omnipath.nodes[dst]['name'], \n",
    "                          repress=edge_info['repress'], source='OmniPath')\n",
    "for src, dst in trrust.edges:\n",
    "    src_name = trrust.nodes[src]['name']\n",
    "    dst_name = trrust.nodes[dst]['name']\n",
    "    if combined.has_edge(src_name, dst_name):\n",
    "        if trrust.edges[src, dst]['repress'] != combined.edges[src_name, dst_name]['repress']:\n",
    "            combined.remove_edge(src_name, dst_name)\n",
    "            continue\n",
    "        new_source = 'Both'\n",
    "    else:\n",
    "        new_source = 'TRRUST2'\n",
    "    combined.add_edge(src_name, dst_name, repress=trrust.edges[src, dst]['repress'], source=new_source)"
   ]
  },
  {
   "cell_type": "code",
   "execution_count": 4,
   "metadata": {},
   "outputs": [],
   "source": [
    "df_emt = pd.read_excel('MMI2_MMI4_Genes_2022_0507.xlsx', sheet_name='EMT_Genes')\n",
    "emt_genes = {d['Gene']: d['Annotation'] for d in df_emt.to_dict('records')}"
   ]
  },
  {
   "cell_type": "code",
   "execution_count": 5,
   "metadata": {},
   "outputs": [],
   "source": [
    "def isrepression(edges):\n",
    "    if not isinstance(edges[0], tuple):\n",
    "        edges = nx.utils.pairwise(edges)\n",
    "    repress = False\n",
    "    for e in edges:\n",
    "        repress ^= combined.edges[e]['repress']\n",
    "    return repress"
   ]
  },
  {
   "cell_type": "markdown",
   "metadata": {},
   "source": [
    "## Genes with 4 miRNA binding sites\n",
    "Trivial because the spreadsheet lists EMT genes with 4 binding sites."
   ]
  },
  {
   "cell_type": "code",
   "execution_count": 6,
   "metadata": {},
   "outputs": [],
   "source": [
    "df_mmi4 = pd.read_excel('MMI2_MMI4_Genes_2022_0507.xlsx', sheet_name='MMI4_1mi', header=None)\n",
    "mmi4_genes = {d[0] for d in df_mmi4.to_dict('records')}"
   ]
  },
  {
   "cell_type": "code",
   "execution_count": 7,
   "metadata": {},
   "outputs": [
    {
     "data": {
      "text/plain": [
       "7"
      ]
     },
     "execution_count": 7,
     "metadata": {},
     "output_type": "execute_result"
    }
   ],
   "source": [
    "len(mmi4_genes.intersection(emt_genes.keys()))"
   ]
  },
  {
   "cell_type": "code",
   "execution_count": 8,
   "metadata": {},
   "outputs": [],
   "source": [
    "df_mmi22 = pd.read_excel('MMI2_MMI4_Genes_2022_0507.xlsx', sheet_name='MMI4_2mis', header=None)\n",
    "mmi22_genes = {d[0] for d in df_mmi22.to_dict('records')}"
   ]
  },
  {
   "cell_type": "code",
   "execution_count": 9,
   "metadata": {},
   "outputs": [
    {
     "data": {
      "text/plain": [
       "45"
      ]
     },
     "execution_count": 9,
     "metadata": {},
     "output_type": "execute_result"
    }
   ],
   "source": [
    "len(mmi22_genes)"
   ]
  },
  {
   "cell_type": "code",
   "execution_count": 10,
   "metadata": {},
   "outputs": [
    {
     "data": {
      "text/plain": [
       "46"
      ]
     },
     "execution_count": 10,
     "metadata": {},
     "output_type": "execute_result"
    }
   ],
   "source": [
    "len(mmi22_genes.union(mmi4_genes))"
   ]
  },
  {
   "cell_type": "markdown",
   "metadata": {},
   "source": [
    "## MMI2 targets regulated by another MMI2 target"
   ]
  },
  {
   "cell_type": "code",
   "execution_count": 11,
   "metadata": {},
   "outputs": [],
   "source": [
    "df_mmi2 = pd.read_excel('MMI2_MMI4_Genes_2022_0507.xlsx', sheet_name='MMI2', header=None)\n",
    "mmi2_genes = {d[0] for d in df_mmi2.to_dict('records')}"
   ]
  },
  {
   "cell_type": "code",
   "execution_count": 12,
   "metadata": {},
   "outputs": [],
   "source": [
    "mmi2_regulates_mmi2 = []\n",
    "for regulator, target in itertools.product(sorted(mmi2_genes.intersection(combined.nodes)), repeat=2):\n",
    "    if regulator == target:\n",
    "        continue\n",
    "    if combined.has_edge(regulator, target):\n",
    "        edge_info = combined.edges[regulator, target]\n",
    "        plausible_core = (emt_genes[regulator] == emt_genes[target]) == (not edge_info['repress'])\n",
    "        mmi2_regulates_mmi2.append({'regulator': regulator, \n",
    "                                    'target': target, \n",
    "                                    'repress': edge_info['repress'], \n",
    "                                    'database': edge_info['source'],\n",
    "                                    'plausible_core': plausible_core})\n",
    "df_mmi2_reg_mmi2 = pd.DataFrame.from_dict(mmi2_regulates_mmi2)"
   ]
  },
  {
   "cell_type": "code",
   "execution_count": 13,
   "metadata": {},
   "outputs": [
    {
     "data": {
      "text/plain": [
       "8"
      ]
     },
     "execution_count": 13,
     "metadata": {},
     "output_type": "execute_result"
    }
   ],
   "source": [
    "len(df_mmi2_reg_mmi2)"
   ]
  },
  {
   "cell_type": "code",
   "execution_count": 14,
   "metadata": {},
   "outputs": [
    {
     "data": {
      "text/plain": [
       "7"
      ]
     },
     "execution_count": 14,
     "metadata": {},
     "output_type": "execute_result"
    }
   ],
   "source": [
    "sum(df_mmi2_reg_mmi2['plausible_core'])"
   ]
  },
  {
   "cell_type": "code",
   "execution_count": 15,
   "metadata": {},
   "outputs": [
    {
     "data": {
      "text/html": [
       "<div>\n",
       "<style scoped>\n",
       "    .dataframe tbody tr th:only-of-type {\n",
       "        vertical-align: middle;\n",
       "    }\n",
       "\n",
       "    .dataframe tbody tr th {\n",
       "        vertical-align: top;\n",
       "    }\n",
       "\n",
       "    .dataframe thead th {\n",
       "        text-align: right;\n",
       "    }\n",
       "</style>\n",
       "<table border=\"1\" class=\"dataframe\">\n",
       "  <thead>\n",
       "    <tr style=\"text-align: right;\">\n",
       "      <th></th>\n",
       "      <th>database</th>\n",
       "      <th>plausible_core</th>\n",
       "      <th>regulator</th>\n",
       "      <th>repress</th>\n",
       "      <th>target</th>\n",
       "    </tr>\n",
       "  </thead>\n",
       "  <tbody>\n",
       "    <tr>\n",
       "      <th>0</th>\n",
       "      <td>Both</td>\n",
       "      <td>True</td>\n",
       "      <td>NR3C1</td>\n",
       "      <td>True</td>\n",
       "      <td>ATP1B1</td>\n",
       "    </tr>\n",
       "    <tr>\n",
       "      <th>1</th>\n",
       "      <td>Both</td>\n",
       "      <td>True</td>\n",
       "      <td>NR3C1</td>\n",
       "      <td>False</td>\n",
       "      <td>CALD1</td>\n",
       "    </tr>\n",
       "    <tr>\n",
       "      <th>2</th>\n",
       "      <td>TRRUST2</td>\n",
       "      <td>True</td>\n",
       "      <td>SNAI2</td>\n",
       "      <td>True</td>\n",
       "      <td>CXADR</td>\n",
       "    </tr>\n",
       "    <tr>\n",
       "      <th>3</th>\n",
       "      <td>TRRUST2</td>\n",
       "      <td>True</td>\n",
       "      <td>SNAI2</td>\n",
       "      <td>True</td>\n",
       "      <td>HPGD</td>\n",
       "    </tr>\n",
       "    <tr>\n",
       "      <th>4</th>\n",
       "      <td>TRRUST2</td>\n",
       "      <td>True</td>\n",
       "      <td>ZEB1</td>\n",
       "      <td>True</td>\n",
       "      <td>CXADR</td>\n",
       "    </tr>\n",
       "    <tr>\n",
       "      <th>5</th>\n",
       "      <td>Both</td>\n",
       "      <td>True</td>\n",
       "      <td>ZEB1</td>\n",
       "      <td>True</td>\n",
       "      <td>GRHL2</td>\n",
       "    </tr>\n",
       "    <tr>\n",
       "      <th>6</th>\n",
       "      <td>TRRUST2</td>\n",
       "      <td>True</td>\n",
       "      <td>ZEB2</td>\n",
       "      <td>True</td>\n",
       "      <td>CXADR</td>\n",
       "    </tr>\n",
       "    <tr>\n",
       "      <th>7</th>\n",
       "      <td>Both</td>\n",
       "      <td>False</td>\n",
       "      <td>ZEB2</td>\n",
       "      <td>True</td>\n",
       "      <td>MEOX2</td>\n",
       "    </tr>\n",
       "  </tbody>\n",
       "</table>\n",
       "</div>"
      ],
      "text/plain": [
       "  database  plausible_core regulator  repress  target\n",
       "0     Both            True     NR3C1     True  ATP1B1\n",
       "1     Both            True     NR3C1    False   CALD1\n",
       "2  TRRUST2            True     SNAI2     True   CXADR\n",
       "3  TRRUST2            True     SNAI2     True    HPGD\n",
       "4  TRRUST2            True      ZEB1     True   CXADR\n",
       "5     Both            True      ZEB1     True   GRHL2\n",
       "6  TRRUST2            True      ZEB2     True   CXADR\n",
       "7     Both           False      ZEB2     True   MEOX2"
      ]
     },
     "execution_count": 15,
     "metadata": {},
     "output_type": "execute_result"
    }
   ],
   "source": [
    "df_mmi2_reg_mmi2#.to_csv('mmi2_reg_mmi2.csv', index=False)"
   ]
  },
  {
   "cell_type": "markdown",
   "metadata": {},
   "source": [
    "### Including indirect regulation"
   ]
  },
  {
   "cell_type": "code",
   "execution_count": 16,
   "metadata": {},
   "outputs": [],
   "source": [
    "mmi2_indirectreg_mmi2 = []\n",
    "for regulator, target in itertools.product(sorted(mmi2_genes.intersection(combined.nodes)), repeat=2):\n",
    "    if regulator == target:\n",
    "        continue\n",
    "    exists = False\n",
    "    repress = False\n",
    "    plausible = False\n",
    "    for path in nx.algorithms.simple_paths.all_simple_paths(combined, regulator, target, cutoff=5):\n",
    "        exists = True\n",
    "        repress = isrepression(path)\n",
    "        plausible = (emt_genes[regulator] == emt_genes[target]) == (not repress)\n",
    "        if plausible:\n",
    "            break\n",
    "    if exists:\n",
    "        mmi2_indirectreg_mmi2.append({'regulator': regulator, \n",
    "                                      'target': target, \n",
    "                                      'repress': repress,\n",
    "                                      'plausible_core': plausible})\n",
    "df_mmi2_indirectreg_mmi2 = pd.DataFrame.from_dict(mmi2_indirectreg_mmi2)"
   ]
  },
  {
   "cell_type": "code",
   "execution_count": 17,
   "metadata": {},
   "outputs": [
    {
     "data": {
      "text/plain": [
       "171"
      ]
     },
     "execution_count": 17,
     "metadata": {},
     "output_type": "execute_result"
    }
   ],
   "source": [
    "len(df_mmi2_indirectreg_mmi2)"
   ]
  },
  {
   "cell_type": "code",
   "execution_count": 18,
   "metadata": {},
   "outputs": [
    {
     "data": {
      "text/plain": [
       "146"
      ]
     },
     "execution_count": 18,
     "metadata": {},
     "output_type": "execute_result"
    }
   ],
   "source": [
    "sum(df_mmi2_indirectreg_mmi2['plausible_core'])"
   ]
  },
  {
   "cell_type": "markdown",
   "metadata": {},
   "source": [
    "## Genes regulated by two MMI2 targets"
   ]
  },
  {
   "cell_type": "code",
   "execution_count": 19,
   "metadata": {},
   "outputs": [],
   "source": [
    "shared_mmi2_targets = []\n",
    "for target in emt_genes.keys():\n",
    "    if target not in combined.nodes:\n",
    "        continue\n",
    "    for reg1, reg2 in itertools.product(combined.predecessors(target), repeat=2):\n",
    "        if reg1 >= reg2:\n",
    "            continue\n",
    "        if reg1 in mmi2_genes and reg2 in mmi2_genes:\n",
    "            repress1 = combined.edges[reg1, target]['repress']\n",
    "            repress2 = combined.edges[reg2, target]['repress']\n",
    "            plausible_core = ((emt_genes[reg1] == emt_genes[target]) == (not repress1)) and \\\n",
    "                             ((emt_genes[reg2] == emt_genes[target]) == (not repress2))\n",
    "            shared_mmi2_targets.append({'regulator1': reg1, \n",
    "                                        'regulator1_repress': repress1,\n",
    "                                        'regulator2': reg2, \n",
    "                                        'regulator2_repress': repress2,\n",
    "                                        'target': target, \n",
    "                                        'plausible_core': plausible_core})\n",
    "df_shared_mmi2_targets = pd.DataFrame.from_dict(shared_mmi2_targets)"
   ]
  },
  {
   "cell_type": "code",
   "execution_count": 20,
   "metadata": {},
   "outputs": [
    {
     "data": {
      "text/plain": [
       "18"
      ]
     },
     "execution_count": 20,
     "metadata": {},
     "output_type": "execute_result"
    }
   ],
   "source": [
    "len(df_shared_mmi2_targets)"
   ]
  },
  {
   "cell_type": "code",
   "execution_count": 21,
   "metadata": {},
   "outputs": [
    {
     "data": {
      "text/plain": [
       "10"
      ]
     },
     "execution_count": 21,
     "metadata": {},
     "output_type": "execute_result"
    }
   ],
   "source": [
    "sum(df_shared_mmi2_targets['plausible_core'])"
   ]
  },
  {
   "cell_type": "code",
   "execution_count": 22,
   "metadata": {},
   "outputs": [
    {
     "data": {
      "text/html": [
       "<div>\n",
       "<style scoped>\n",
       "    .dataframe tbody tr th:only-of-type {\n",
       "        vertical-align: middle;\n",
       "    }\n",
       "\n",
       "    .dataframe tbody tr th {\n",
       "        vertical-align: top;\n",
       "    }\n",
       "\n",
       "    .dataframe thead th {\n",
       "        text-align: right;\n",
       "    }\n",
       "</style>\n",
       "<table border=\"1\" class=\"dataframe\">\n",
       "  <thead>\n",
       "    <tr style=\"text-align: right;\">\n",
       "      <th></th>\n",
       "      <th>plausible_core</th>\n",
       "      <th>regulator1</th>\n",
       "      <th>regulator1_repress</th>\n",
       "      <th>regulator2</th>\n",
       "      <th>regulator2_repress</th>\n",
       "      <th>target</th>\n",
       "    </tr>\n",
       "  </thead>\n",
       "  <tbody>\n",
       "    <tr>\n",
       "      <th>8</th>\n",
       "      <td>False</td>\n",
       "      <td>KLF8</td>\n",
       "      <td>False</td>\n",
       "      <td>SNAI2</td>\n",
       "      <td>True</td>\n",
       "      <td>CDH1</td>\n",
       "    </tr>\n",
       "    <tr>\n",
       "      <th>6</th>\n",
       "      <td>False</td>\n",
       "      <td>KLF8</td>\n",
       "      <td>False</td>\n",
       "      <td>TWIST1</td>\n",
       "      <td>True</td>\n",
       "      <td>CDH1</td>\n",
       "    </tr>\n",
       "    <tr>\n",
       "      <th>9</th>\n",
       "      <td>False</td>\n",
       "      <td>KLF8</td>\n",
       "      <td>False</td>\n",
       "      <td>ZEB1</td>\n",
       "      <td>True</td>\n",
       "      <td>CDH1</td>\n",
       "    </tr>\n",
       "    <tr>\n",
       "      <th>7</th>\n",
       "      <td>False</td>\n",
       "      <td>KLF8</td>\n",
       "      <td>False</td>\n",
       "      <td>ZEB2</td>\n",
       "      <td>True</td>\n",
       "      <td>CDH1</td>\n",
       "    </tr>\n",
       "    <tr>\n",
       "      <th>2</th>\n",
       "      <td>True</td>\n",
       "      <td>SNAI2</td>\n",
       "      <td>True</td>\n",
       "      <td>TWIST1</td>\n",
       "      <td>True</td>\n",
       "      <td>CDH1</td>\n",
       "    </tr>\n",
       "    <tr>\n",
       "      <th>4</th>\n",
       "      <td>True</td>\n",
       "      <td>SNAI2</td>\n",
       "      <td>True</td>\n",
       "      <td>ZEB1</td>\n",
       "      <td>True</td>\n",
       "      <td>CDH1</td>\n",
       "    </tr>\n",
       "    <tr>\n",
       "      <th>3</th>\n",
       "      <td>True</td>\n",
       "      <td>SNAI2</td>\n",
       "      <td>True</td>\n",
       "      <td>ZEB2</td>\n",
       "      <td>True</td>\n",
       "      <td>CDH1</td>\n",
       "    </tr>\n",
       "    <tr>\n",
       "      <th>1</th>\n",
       "      <td>True</td>\n",
       "      <td>TWIST1</td>\n",
       "      <td>True</td>\n",
       "      <td>ZEB1</td>\n",
       "      <td>True</td>\n",
       "      <td>CDH1</td>\n",
       "    </tr>\n",
       "    <tr>\n",
       "      <th>0</th>\n",
       "      <td>True</td>\n",
       "      <td>TWIST1</td>\n",
       "      <td>True</td>\n",
       "      <td>ZEB2</td>\n",
       "      <td>True</td>\n",
       "      <td>CDH1</td>\n",
       "    </tr>\n",
       "    <tr>\n",
       "      <th>5</th>\n",
       "      <td>True</td>\n",
       "      <td>ZEB1</td>\n",
       "      <td>True</td>\n",
       "      <td>ZEB2</td>\n",
       "      <td>True</td>\n",
       "      <td>CDH1</td>\n",
       "    </tr>\n",
       "    <tr>\n",
       "      <th>10</th>\n",
       "      <td>True</td>\n",
       "      <td>SNAI2</td>\n",
       "      <td>True</td>\n",
       "      <td>ZEB1</td>\n",
       "      <td>True</td>\n",
       "      <td>CXADR</td>\n",
       "    </tr>\n",
       "    <tr>\n",
       "      <th>11</th>\n",
       "      <td>True</td>\n",
       "      <td>SNAI2</td>\n",
       "      <td>True</td>\n",
       "      <td>ZEB2</td>\n",
       "      <td>True</td>\n",
       "      <td>CXADR</td>\n",
       "    </tr>\n",
       "    <tr>\n",
       "      <th>12</th>\n",
       "      <td>True</td>\n",
       "      <td>ZEB1</td>\n",
       "      <td>True</td>\n",
       "      <td>ZEB2</td>\n",
       "      <td>True</td>\n",
       "      <td>CXADR</td>\n",
       "    </tr>\n",
       "    <tr>\n",
       "      <th>13</th>\n",
       "      <td>False</td>\n",
       "      <td>KLF5</td>\n",
       "      <td>False</td>\n",
       "      <td>SNAI2</td>\n",
       "      <td>False</td>\n",
       "      <td>CXCR4</td>\n",
       "    </tr>\n",
       "    <tr>\n",
       "      <th>14</th>\n",
       "      <td>False</td>\n",
       "      <td>KLF8</td>\n",
       "      <td>True</td>\n",
       "      <td>TWIST1</td>\n",
       "      <td>False</td>\n",
       "      <td>FN1</td>\n",
       "    </tr>\n",
       "    <tr>\n",
       "      <th>16</th>\n",
       "      <td>False</td>\n",
       "      <td>KLF8</td>\n",
       "      <td>True</td>\n",
       "      <td>TCF4</td>\n",
       "      <td>False</td>\n",
       "      <td>VIM</td>\n",
       "    </tr>\n",
       "    <tr>\n",
       "      <th>17</th>\n",
       "      <td>False</td>\n",
       "      <td>KLF8</td>\n",
       "      <td>True</td>\n",
       "      <td>ZEB2</td>\n",
       "      <td>False</td>\n",
       "      <td>VIM</td>\n",
       "    </tr>\n",
       "    <tr>\n",
       "      <th>15</th>\n",
       "      <td>True</td>\n",
       "      <td>TCF4</td>\n",
       "      <td>False</td>\n",
       "      <td>ZEB2</td>\n",
       "      <td>False</td>\n",
       "      <td>VIM</td>\n",
       "    </tr>\n",
       "  </tbody>\n",
       "</table>\n",
       "</div>"
      ],
      "text/plain": [
       "    plausible_core regulator1  regulator1_repress regulator2  \\\n",
       "8            False       KLF8               False      SNAI2   \n",
       "6            False       KLF8               False     TWIST1   \n",
       "9            False       KLF8               False       ZEB1   \n",
       "7            False       KLF8               False       ZEB2   \n",
       "2             True      SNAI2                True     TWIST1   \n",
       "4             True      SNAI2                True       ZEB1   \n",
       "3             True      SNAI2                True       ZEB2   \n",
       "1             True     TWIST1                True       ZEB1   \n",
       "0             True     TWIST1                True       ZEB2   \n",
       "5             True       ZEB1                True       ZEB2   \n",
       "10            True      SNAI2                True       ZEB1   \n",
       "11            True      SNAI2                True       ZEB2   \n",
       "12            True       ZEB1                True       ZEB2   \n",
       "13           False       KLF5               False      SNAI2   \n",
       "14           False       KLF8                True     TWIST1   \n",
       "16           False       KLF8                True       TCF4   \n",
       "17           False       KLF8                True       ZEB2   \n",
       "15            True       TCF4               False       ZEB2   \n",
       "\n",
       "    regulator2_repress target  \n",
       "8                 True   CDH1  \n",
       "6                 True   CDH1  \n",
       "9                 True   CDH1  \n",
       "7                 True   CDH1  \n",
       "2                 True   CDH1  \n",
       "4                 True   CDH1  \n",
       "3                 True   CDH1  \n",
       "1                 True   CDH1  \n",
       "0                 True   CDH1  \n",
       "5                 True   CDH1  \n",
       "10                True  CXADR  \n",
       "11                True  CXADR  \n",
       "12                True  CXADR  \n",
       "13               False  CXCR4  \n",
       "14               False    FN1  \n",
       "16               False    VIM  \n",
       "17               False    VIM  \n",
       "15               False    VIM  "
      ]
     },
     "execution_count": 22,
     "metadata": {},
     "output_type": "execute_result"
    }
   ],
   "source": [
    "df_shared_mmi2_targets.sort_values(['target', 'regulator1', 'regulator2'])#.to_csv('mmi2_shared_targets.csv', index=False)"
   ]
  },
  {
   "cell_type": "markdown",
   "metadata": {},
   "source": [
    "### Including indirect regulation"
   ]
  },
  {
   "cell_type": "code",
   "execution_count": 23,
   "metadata": {},
   "outputs": [],
   "source": [
    "emt_mmi2_regulators = collections.defaultdict(dict)\n",
    "for regulator, target in itertools.product(mmi2_genes, emt_genes.keys()):\n",
    "    if regulator == target or regulator not in combined.nodes or target not in combined.nodes:\n",
    "        continue\n",
    "    always_required_nodes = None\n",
    "    plausible_required_nodes = None\n",
    "    for path in nx.algorithms.simple_paths.all_simple_paths(combined, regulator, target, cutoff=5):\n",
    "        exists = True\n",
    "        plausible = (emt_genes[regulator] == emt_genes[target]) == (not isrepression(path))\n",
    "        if always_required_nodes is None:\n",
    "            always_required_nodes = frozenset(path)\n",
    "        else:\n",
    "            always_required_nodes = always_required_nodes.intersection(path)\n",
    "        if plausible:\n",
    "            if plausible_required_nodes is None:\n",
    "                plausible_required_nodes = frozenset(path)\n",
    "            else:\n",
    "                plausible_required_nodes = plausible_required_nodes.intersection(path)\n",
    "    if always_required_nodes is not None:\n",
    "        emt_mmi2_regulators[target][regulator] = (always_required_nodes, plausible_required_nodes)"
   ]
  },
  {
   "cell_type": "code",
   "execution_count": 24,
   "metadata": {},
   "outputs": [],
   "source": [
    "shared_mmi2_indirect_targets = []\n",
    "for target in emt_mmi2_regulators.keys():\n",
    "    for reg1, reg2 in itertools.product(emt_mmi2_regulators[target].keys(), repeat=2):\n",
    "        if reg1 >= reg2:\n",
    "            continue\n",
    "        always_required1, plausible_required1 = emt_mmi2_regulators[target][reg1]\n",
    "        if reg2 in always_required1:\n",
    "            continue\n",
    "        always_required2, plausible_required2 = emt_mmi2_regulators[target][reg2]\n",
    "        if reg1 in always_required2:\n",
    "            continue\n",
    "        if len(always_required1.intersection(always_required2)) > 1:\n",
    "            #print(reg1, reg2, target, always_required1, always_required2)\n",
    "            continue\n",
    "        plausible1 = plausible_required1 is not None and reg2 not in plausible_required1\n",
    "        plausible2 = plausible_required2 is not None and reg1 not in plausible_required2\n",
    "        plausible = plausible1 and plausible2 and len(plausible_required1.intersection(plausible_required2)) == 1\n",
    "        shared_mmi2_indirect_targets.append({'regulator1': reg1, \n",
    "                                             #'regulator1_repress': repress1,\n",
    "                                             'regulator2': reg2, \n",
    "                                             #'regulator2_repress': repress2,\n",
    "                                             'target': target, \n",
    "                                             'plausible_core': plausible})\n",
    "df_shared_mmi2_indirect_targets = pd.DataFrame.from_dict(shared_mmi2_indirect_targets)"
   ]
  },
  {
   "cell_type": "code",
   "execution_count": 25,
   "metadata": {},
   "outputs": [
    {
     "data": {
      "text/plain": [
       "1312"
      ]
     },
     "execution_count": 25,
     "metadata": {},
     "output_type": "execute_result"
    }
   ],
   "source": [
    "len(df_shared_mmi2_indirect_targets)"
   ]
  },
  {
   "cell_type": "code",
   "execution_count": 26,
   "metadata": {},
   "outputs": [
    {
     "data": {
      "text/plain": [
       "1105"
      ]
     },
     "execution_count": 26,
     "metadata": {},
     "output_type": "execute_result"
    }
   ],
   "source": [
    "sum(df_shared_mmi2_indirect_targets['plausible_core'])"
   ]
  },
  {
   "cell_type": "markdown",
   "metadata": {},
   "source": [
    "## Count of genes involved in direct-regulation instances"
   ]
  },
  {
   "cell_type": "code",
   "execution_count": 27,
   "metadata": {},
   "outputs": [
    {
     "data": {
      "text/plain": [
       "55"
      ]
     },
     "execution_count": 27,
     "metadata": {},
     "output_type": "execute_result"
    }
   ],
   "source": [
    "involved_genes = set(mmi4_genes.union(mmi22_genes).intersection(emt_genes.keys()))\n",
    "for chain in mmi2_regulates_mmi2:\n",
    "    involved_genes.add(chain['regulator'])\n",
    "    involved_genes.add(chain['target'])\n",
    "for cotargeting in shared_mmi2_targets:\n",
    "    involved_genes.add(cotargeting['regulator1'])\n",
    "    involved_genes.add(cotargeting['regulator2'])\n",
    "    involved_genes.add(cotargeting['target'])\n",
    "len(involved_genes)"
   ]
  },
  {
   "cell_type": "code",
   "execution_count": 28,
   "metadata": {},
   "outputs": [
    {
     "data": {
      "text/plain": [
       "423"
      ]
     },
     "execution_count": 28,
     "metadata": {},
     "output_type": "execute_result"
    }
   ],
   "source": [
    "len(emt_genes)"
   ]
  }
 ],
 "metadata": {
  "kernelspec": {
   "display_name": "Python 3",
   "language": "python",
   "name": "python3"
  },
  "language_info": {
   "codemirror_mode": {
    "name": "ipython",
    "version": 3
   },
   "file_extension": ".py",
   "mimetype": "text/x-python",
   "name": "python",
   "nbconvert_exporter": "python",
   "pygments_lexer": "ipython3",
   "version": "3.6.7"
  }
 },
 "nbformat": 4,
 "nbformat_minor": 2
}
